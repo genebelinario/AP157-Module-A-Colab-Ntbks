{
  "nbformat": 4,
  "nbformat_minor": 0,
  "metadata": {
    "colab": {
      "name": "AP157_ModuleA_Report2_CodeSnippet1.ipynb",
      "provenance": [],
      "authorship_tag": "ABX9TyP8KHW4oqahyh/vBk3ojH05",
      "include_colab_link": true
    },
    "kernelspec": {
      "name": "python3",
      "display_name": "Python 3"
    },
    "language_info": {
      "name": "python"
    }
  },
  "cells": [
    {
      "cell_type": "markdown",
      "metadata": {
        "id": "view-in-github",
        "colab_type": "text"
      },
      "source": [
        "<a href=\"https://colab.research.google.com/github/genebelinario/AP157-Module-A-Colab-Ntbks/blob/main/AP157_ModuleA_Report2_CodeSnippet1.ipynb\" target=\"_parent\"><img src=\"https://colab.research.google.com/assets/colab-badge.svg\" alt=\"Open In Colab\"/></a>"
      ]
    },
    {
      "cell_type": "code",
      "execution_count": null,
      "metadata": {
        "id": "kdvPBKewZNhB"
      },
      "outputs": [],
      "source": [
        "class Schelling(Cell2D):\n",
        "  \n",
        "  def __init__(self, n, p):\n",
        "    self.p = p\n",
        "    choices = [0, 1, 2]\n",
        "    probs = [0.1, 0.45, 0.45]\n",
        "    self.array = np.random.choice(choices, (n, n), p=probs)"
      ]
    }
  ]
}