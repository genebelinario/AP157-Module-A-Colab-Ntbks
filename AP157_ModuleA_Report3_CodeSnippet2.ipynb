{
  "nbformat": 4,
  "nbformat_minor": 0,
  "metadata": {
    "colab": {
      "name": "AP157_ModuleA_Report3_CodeSnippet2.ipynb",
      "provenance": [],
      "authorship_tag": "ABX9TyOyh45e9/D9Kr8VEc3y20dN",
      "include_colab_link": true
    },
    "kernelspec": {
      "name": "python3",
      "display_name": "Python 3"
    },
    "language_info": {
      "name": "python"
    }
  },
  "cells": [
    {
      "cell_type": "markdown",
      "metadata": {
        "id": "view-in-github",
        "colab_type": "text"
      },
      "source": [
        "<a href=\"https://colab.research.google.com/github/genebelinario/AP157-Module-A-Colab-Ntbks/blob/main/AP157_ModuleA_Report3_CodeSnippet2.ipynb\" target=\"_parent\"><img src=\"https://colab.research.google.com/assets/colab-badge.svg\" alt=\"Open In Colab\"/></a>"
      ]
    },
    {
      "cell_type": "code",
      "execution_count": null,
      "metadata": {
        "id": "esZ8Tv11AoDA"
      },
      "outputs": [],
      "source": [
        "import networkx as nx\n",
        "\n",
        "# Load the data\n",
        "G = nx.read_edgelist(\"data.txt\")\n",
        "\n",
        "# Divide the nodes in the two bipartite sets\n",
        "nodes = nx.algorithms.bipartite.basic.sets(G)\n",
        "\n",
        "# Find the node in type 0 with the most neighbors\n",
        "node_neighbors = {n: len(set(G.neighbors(n))) for n in nodes[0]}\n",
        "maxnode = max(node_neighbors, key = node_neighbors.get)\n",
        "print(maxnode, node_neighbors[maxnode])\n",
        "\n",
        "# Find the node in type 1 with the most neighbors\n",
        "node_neighbors = {n: len(set(G.neighbors(n))) for n in nodes[1]}\n",
        "maxnode = max(node_neighbors, key = node_neighbors.get)\n",
        "print(maxnode, node_neighbors[maxnode])"
      ]
    }
  ]
}