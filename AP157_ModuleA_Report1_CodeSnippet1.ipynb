{
  "nbformat": 4,
  "nbformat_minor": 0,
  "metadata": {
    "colab": {
      "name": "AP157_ModuleA_Report1_CodeSnippet1.ipynb",
      "provenance": [],
      "include_colab_link": true
    },
    "kernelspec": {
      "name": "python3",
      "display_name": "Python 3"
    },
    "language_info": {
      "name": "python"
    }
  },
  "cells": [
    {
      "cell_type": "markdown",
      "metadata": {
        "id": "view-in-github",
        "colab_type": "text"
      },
      "source": [
        "<a href=\"https://colab.research.google.com/github/genebelinario/AP157-Module-A-Colab-Ntbks/blob/main/AP157_ModuleA_Report1_CodeSnippet1.ipynb\" target=\"_parent\"><img src=\"https://colab.research.google.com/assets/colab-badge.svg\" alt=\"Open In Colab\"/></a>"
      ]
    },
    {
      "cell_type": "code",
      "execution_count": null,
      "metadata": {
        "id": "JZZq9tGwlhet"
      },
      "outputs": [],
      "source": [
        "def Attempt_flip(S, beta, i, k, N, r, B = 0, J_v = 1, J_p = 1):\n",
        "    \"\"\"The central part of the Metropolis algorithm. Calculates the energy change at a random lattice site, and\n",
        "    updates the spin of the lattice site in accordance to the rules of the Metropolis algorithm. Returns\n",
        "    True/False on whether the spin should flip as well as the change in energy.\n",
        "    \n",
        "        Parameters:\n",
        "            S: Spin matrix, (NxN) array\n",
        "            beta: Inverse temperature\n",
        "            i, k: indicates the lattice site\n",
        "            N: Number of columns and rows in the lattice\n",
        "            r: Random number between 0 and 1\n",
        "            B, J_v, J_p: Interactation and external parameters\n",
        "        Returns:\n",
        "            delta_E: The energy change\n",
        "            flip : Boolean value on wheter the spin should be flipped.\n",
        "        \"\"\"\n",
        "    delta_E = delta_Hamiltonian(S, i, k, N, B, J_v, J_p)\n",
        "    if delta_E <= 0:\n",
        "        flip = True # If the energy change is negative, the spin flips\n",
        "        return flip, delta_E\n",
        "    else:\n",
        "        flip = np.exp(-beta * delta_E) > r # The flip might flip, depending on r and the temperature\n",
        "        return flip, delta_E"
      ]
    }
  ]
}