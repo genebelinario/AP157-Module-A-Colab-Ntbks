{
  "nbformat": 4,
  "nbformat_minor": 0,
  "metadata": {
    "colab": {
      "name": "AP157_ModuleA_Report1_CodeSnippet3.ipynb",
      "provenance": [],
      "collapsed_sections": [],
      "include_colab_link": true
    },
    "kernelspec": {
      "name": "python3",
      "display_name": "Python 3"
    },
    "language_info": {
      "name": "python"
    }
  },
  "cells": [
    {
      "cell_type": "markdown",
      "metadata": {
        "id": "view-in-github",
        "colab_type": "text"
      },
      "source": [
        "<a href=\"https://colab.research.google.com/github/genebelinario/AP157-Module-A-Colab-Ntbks/blob/main/AP157_ModuleA_Report1_CodeSnippet3.ipynb\" target=\"_parent\"><img src=\"https://colab.research.google.com/assets/colab-badge.svg\" alt=\"Open In Colab\"/></a>"
      ]
    },
    {
      "cell_type": "code",
      "execution_count": null,
      "metadata": {
        "id": "loEz1LADo8nO"
      },
      "outputs": [],
      "source": [
        "def compute_quantities(S, beta, M, B = 0, J_v = 1, J_p = 1, show_time= False):\n",
        "    \"\"\"Given the number of wanted sweeps, M, the simulation is ran for M Monte Carlo sweeps. Returns arrays with\n",
        "    the values of magnetization and energy after each sweep.\n",
        "    \n",
        "        Parameters:\n",
        "            S: Spin matrix, (NxN) array\n",
        "            beta: Inverse temperature\n",
        "            M: Number of Monte Carlo sweeps\n",
        "            B, J_v, J_p: Interactation and external parameters\n",
        "        Returns:\n",
        "            He_list: The energy after each sweep (Mx1) array\n",
        "            m_list : The magnetization after each sweep (Mx1) array\n",
        "        \"\"\"\n",
        "    start = time.time()\n",
        "    N = np.shape(S)[0]\n",
        "    He_list = np.zeros(M)\n",
        "    He_list[0] = Hamiltonian(S, B, J_v, J_p) # Initial energy of the lattice\n",
        "    m_list = np.zeros(M)\n",
        "    m_list[0] = np.sum(S) / N ** 2 # Iniitial magnetization of the lattice\n",
        "    for j in range(1, M):\n",
        "        S, delta_He_sweep, delta_m_sweep = sweep(S, beta, N, B, J_v, J_p)\n",
        "        He_list[j] = He_list[j-1] + delta_He_sweep # Storing the updated energy\n",
        "        m_list[j] = m_list[j-1] + delta_m_sweep # Storing the updated magnetization\n",
        "    if show_time:\n",
        "        print(\"Iteration time with T = %.2f: %.2f\" %(1 / beta, time.time() - start))"
      ]
    }
  ]
}