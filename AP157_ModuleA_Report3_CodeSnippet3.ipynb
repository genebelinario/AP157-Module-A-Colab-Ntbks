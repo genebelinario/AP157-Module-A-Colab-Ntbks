{
  "nbformat": 4,
  "nbformat_minor": 0,
  "metadata": {
    "colab": {
      "name": "AP157_ModuleA_Report3_CodeSnippet3.ipynb",
      "provenance": [],
      "authorship_tag": "ABX9TyOm3SGE1X+u78sZEUlOZ8Dv",
      "include_colab_link": true
    },
    "kernelspec": {
      "name": "python3",
      "display_name": "Python 3"
    },
    "language_info": {
      "name": "python"
    }
  },
  "cells": [
    {
      "cell_type": "markdown",
      "metadata": {
        "id": "view-in-github",
        "colab_type": "text"
      },
      "source": [
        "<a href=\"https://colab.research.google.com/github/genebelinario/AP157-Module-A-Colab-Ntbks/blob/main/AP157_ModuleA_Report3_CodeSnippet3.ipynb\" target=\"_parent\"><img src=\"https://colab.research.google.com/assets/colab-badge.svg\" alt=\"Open In Colab\"/></a>"
      ]
    },
    {
      "cell_type": "code",
      "execution_count": null,
      "metadata": {
        "id": "RUblhWAjGm6w"
      },
      "outputs": [],
      "source": [
        "# The standard pandas plotting function allows us to use a log-log scale via a\n",
        "# parameter, then we again save it to file.\n",
        "dd.plot(kind = \"scatter\", x = \"k\", y = \"count\", color = \"#e41a1c\", loglog = True)\n",
        "plt.savefig(\"degree_distribution_loglog.png\")"
      ]
    }
  ]
}