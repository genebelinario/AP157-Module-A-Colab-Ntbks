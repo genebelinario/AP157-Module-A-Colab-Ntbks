{
  "nbformat": 4,
  "nbformat_minor": 0,
  "metadata": {
    "colab": {
      "name": "AP157_ModuleA_Report2_CodeSnippet3.ipynb",
      "provenance": [],
      "collapsed_sections": [],
      "authorship_tag": "ABX9TyPDDLI/0mWdjVn29V3Stn96",
      "include_colab_link": true
    },
    "kernelspec": {
      "name": "python3",
      "display_name": "Python 3"
    },
    "language_info": {
      "name": "python"
    }
  },
  "cells": [
    {
      "cell_type": "markdown",
      "metadata": {
        "id": "view-in-github",
        "colab_type": "text"
      },
      "source": [
        "<a href=\"https://colab.research.google.com/github/genebelinario/AP157-Module-A-Colab-Ntbks/blob/main/AP157_ModuleA_Report2_CodeSnippet3.ipynb\" target=\"_parent\"><img src=\"https://colab.research.google.com/assets/colab-badge.svg\" alt=\"Open In Colab\"/></a>"
      ]
    },
    {
      "cell_type": "code",
      "execution_count": null,
      "metadata": {
        "id": "P0BStglbgfci"
      },
      "outputs": [],
      "source": [
        "class Sugarscape(Cell2D): \n",
        "  def step(self):\n",
        "    # loop through the agents in random order\n",
        "    random_order = np.random.permutation(self.agents) \n",
        "    for agent in random_order: \n",
        "      # mark the current cell unoccupied \n",
        "      self.occupied.remove(agent.loc)\n",
        "      # execute one step\n",
        "      agent.step(self)\n",
        "      # if the agent is dead, remove from the list\n",
        "      if agent.is_starving():\n",
        "        self.agents.remove(agent)\n",
        "      else:\n",
        "          # otherwise mark its cell occupied \n",
        "          self.occupied.add(agent.loc)\n",
        "  # grow back some sugar\n",
        "  self.grow()\n",
        "  return len(self.agents)"
      ]
    }
  ]
}