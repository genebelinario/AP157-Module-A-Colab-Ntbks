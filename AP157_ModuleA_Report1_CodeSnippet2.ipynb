{
  "nbformat": 4,
  "nbformat_minor": 0,
  "metadata": {
    "colab": {
      "name": "AP157_ModuleA_Report1_CodeSnippet2.ipynb",
      "provenance": [],
      "collapsed_sections": [],
      "include_colab_link": true
    },
    "kernelspec": {
      "name": "python3",
      "display_name": "Python 3"
    },
    "language_info": {
      "name": "python"
    }
  },
  "cells": [
    {
      "cell_type": "markdown",
      "metadata": {
        "id": "view-in-github",
        "colab_type": "text"
      },
      "source": [
        "<a href=\"https://colab.research.google.com/github/genebelinario/AP157-Module-A-Colab-Ntbks/blob/main/AP157_ModuleA_Report1_CodeSnippet2.ipynb\" target=\"_parent\"><img src=\"https://colab.research.google.com/assets/colab-badge.svg\" alt=\"Open In Colab\"/></a>"
      ]
    },
    {
      "cell_type": "code",
      "execution_count": null,
      "metadata": {
        "id": "vWmN38ArnXtO"
      },
      "outputs": [],
      "source": [
        "def sweep(S, beta, N, B = 0, J_v = 1, J_p = 1):\n",
        "    \"\"\"A full Monte Carlo sweep. Runs the previous functions N ** 2 times, while always storing the updated change in\n",
        "    magnetization and energy. Returns the updated spin configuaration and the change in magnetization and\n",
        "    energy (with respect to the initial values).\n",
        "    \n",
        "        Parameters:\n",
        "            S: Spin matrix, (NxN) array\n",
        "            beta: Inverse temperature\n",
        "            N: Number of columns and rows in the lattice\n",
        "            B, J_v, J_p: Interactation and external parameters\n",
        "        Returns:\n",
        "            S: Updated spin configuartion after one Monte Carlo sweep\n",
        "            delta_He_sweep: Change in energy after one Monte Carlo sweep\n",
        "            delta_m_sweep: Change in magnetization after one Monte Carlo sweep\n",
        "        \"\"\"\n",
        "    delta_m_sweep = 0\n",
        "    delta_He_sweep = 0\n",
        "    # Generating random numbers to genereate random lattice sites \n",
        "    rand_list_index_1 = np.random.randint(N, size=N ** 2)\n",
        "    rand_list_index_2 = np.random.randint(N, size=N ** 2)\n",
        "    # Generating N ** 2 random numbers between 0 and 1\n",
        "    rand_numbers = np.random.rand(N**2)\n",
        "    for l in range(N ** 2):\n",
        "        i = rand_list_index_1[l]\n",
        "        k = rand_list_index_2[l]\n",
        "        check, delta_E = Attempt_flip(S, beta, i, k, N, rand_numbers[l], B, J_v, J_p)\n",
        "        if check:\n",
        "            delta_m = (-2) * S[i][k] / (N ** 2)\n",
        "            S[i][k] *= (-1)\n",
        "        else:\n",
        "            delta_m = 0\n",
        "            delta_E = 0\n",
        "        delta_He_sweep += delta_E\n",
        "        delta_m_sweep += delta_m\n",
        "    return S, delta_He_sweep, delta_m_sweep"
      ]
    }
  ]
}