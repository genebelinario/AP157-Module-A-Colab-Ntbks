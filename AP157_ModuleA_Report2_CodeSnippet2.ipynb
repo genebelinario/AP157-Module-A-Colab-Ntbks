{
  "nbformat": 4,
  "nbformat_minor": 0,
  "metadata": {
    "colab": {
      "name": "AP157_ModuleA_Report2_CodeSnippet2.ipynb",
      "provenance": [],
      "collapsed_sections": [],
      "authorship_tag": "ABX9TyMw//c7pnSrtavC7bs5MVzS",
      "include_colab_link": true
    },
    "kernelspec": {
      "name": "python3",
      "display_name": "Python 3"
    },
    "language_info": {
      "name": "python"
    }
  },
  "cells": [
    {
      "cell_type": "markdown",
      "metadata": {
        "id": "view-in-github",
        "colab_type": "text"
      },
      "source": [
        "<a href=\"https://colab.research.google.com/github/genebelinario/AP157-Module-A-Colab-Ntbks/blob/main/AP157_ModuleA_Report2_CodeSnippet2.ipynb\" target=\"_parent\"><img src=\"https://colab.research.google.com/assets/colab-badge.svg\" alt=\"Open In Colab\"/></a>"
      ]
    },
    {
      "cell_type": "code",
      "execution_count": null,
      "metadata": {
        "id": "F1lkKrHfhTvq"
      },
      "outputs": [],
      "source": [
        "class Agent:\n",
        "  def step(self, env):\n",
        "    self.loc = env.look_and_move(self.loc, self.vision)\n",
        "    self.sugar += env.harvest(self.loc) - self.metabolism\n",
        "    self.age += 1"
      ]
    }
  ]
}