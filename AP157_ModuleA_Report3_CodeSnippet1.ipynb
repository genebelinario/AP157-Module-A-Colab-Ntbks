{
  "nbformat": 4,
  "nbformat_minor": 0,
  "metadata": {
    "colab": {
      "name": "AP157_ModuleA_Report3_CodeSnippet1.ipynb",
      "provenance": [],
      "authorship_tag": "ABX9TyNz149w0TRF+ssx03wnzAdm",
      "include_colab_link": true
    },
    "kernelspec": {
      "name": "python3",
      "display_name": "Python 3"
    },
    "language_info": {
      "name": "python"
    }
  },
  "cells": [
    {
      "cell_type": "markdown",
      "metadata": {
        "id": "view-in-github",
        "colab_type": "text"
      },
      "source": [
        "<a href=\"https://colab.research.google.com/github/genebelinario/AP157-Module-A-Colab-Ntbks/blob/main/AP157_ModuleA_Report3_CodeSnippet1.ipynb\" target=\"_parent\"><img src=\"https://colab.research.google.com/assets/colab-badge.svg\" alt=\"Open In Colab\"/></a>"
      ]
    },
    {
      "cell_type": "code",
      "execution_count": null,
      "metadata": {
        "id": "TzW1GzYp5929"
      },
      "outputs": [],
      "source": [
        "import pandas as pd\n",
        "import networkx as nx\n",
        "import matplotlib.pyplot as plt"
      ]
    },
    {
      "cell_type": "code",
      "source": [
        "# Read the data\n",
        "df = pd.read_csv(\"data.txt\", sep = \"\\t\")"
      ],
      "metadata": {
        "id": "-bl0I9Qq6Ere"
      },
      "execution_count": null,
      "outputs": []
    },
    {
      "cell_type": "code",
      "source": [
        "# Calculate correlations\n",
        "df = df.corr()"
      ],
      "metadata": {
        "id": "SnNC2lFv6GQF"
      },
      "execution_count": null,
      "outputs": []
    },
    {
      "cell_type": "code",
      "source": [
        "# Take only positive correlations\n",
        "df = df > 0\n",
        "df = df.unstack().reset_index()\n",
        "df.columns = (\"source\", \"target\", \"edge\")\n",
        "df = df[df[\"edge\"]]"
      ],
      "metadata": {
        "id": "1-VwOu646HmQ"
      },
      "execution_count": null,
      "outputs": []
    },
    {
      "cell_type": "code",
      "source": [
        "# Remove self loops\n",
        "df = df[df[\"source\"] != df[\"target\"]]"
      ],
      "metadata": {
        "id": "8riAGMN_6I9J"
      },
      "execution_count": null,
      "outputs": []
    },
    {
      "cell_type": "code",
      "source": [
        "# Make networkx object\n",
        "G = nx.from_pandas_edgelist(df)"
      ],
      "metadata": {
        "id": "v1W4FIF06R-b"
      },
      "execution_count": null,
      "outputs": []
    },
    {
      "cell_type": "code",
      "source": [
        "# Draw\n",
        "nx.draw(G, with_labels = True)\n",
        "plt.savefig(\"correlation_network.png\")\n",
        "plt.show()"
      ],
      "metadata": {
        "id": "Sq8ogJuB6Ufi"
      },
      "execution_count": null,
      "outputs": []
    }
  ]
}